{
 "cells": [
  {
   "cell_type": "code",
   "execution_count": 27,
   "id": "5e71e788",
   "metadata": {},
   "outputs": [],
   "source": [
    "from splinter import Browser\n",
    "from bs4 import BeautifulSoup as bs\n",
    "from webdriver_manager.chrome import ChromeDriverManager\n",
    "import pandas as pd"
   ]
  },
  {
   "cell_type": "code",
   "execution_count": 28,
   "id": "5cbdd0a2",
   "metadata": {},
   "outputs": [],
   "source": [
    "# SET UP PATH / SPLINTER\n",
    "executable_path = {\"executable_path\": ChromeDriverManager().install()}\n",
    "browser = Browser(\"chrome\", **executable_path, headless=False)"
   ]
  },
  {
   "cell_type": "code",
   "execution_count": 29,
   "id": "e6a77bf0",
   "metadata": {},
   "outputs": [],
   "source": [
    "# URLS TO SCRAPE\n",
    "url_marsnews = \"https://redplanetscience.com\"\n",
    "url_spaceimage = \"https://spaceimages-mars.com\"\n",
    "url_marsfacts = \"https://galaxyfacts-mars.com\"\n",
    "url_marshemis = \"https://marshemispheres.com\""
   ]
  },
  {
   "cell_type": "code",
   "execution_count": null,
   "id": "d90bcae7",
   "metadata": {
    "pycharm": {
     "is_executing": true
    }
   },
   "outputs": [],
   "source": [
    "# SCRAPE MARS NEWS SITE\n",
    "browser.visit(url_marsnews)\n",
    "html = browser.html\n",
    "soup = bs(html, \"html.parser\")\n",
    "# print(soup.prettify())\n",
    "\n",
    "# SCRAPE FIRST NEWS TITLE FROM MARS NEWS SITE\n",
    "article = soup.find(\"div\", class_=\"https://marshemispheres.com\")\n",
    "news_title = article.find(\"div\", class_=\"content_title\").text\n",
    "\n",
    "\n",
    "# SCRAPE RELATED PARAGRAPH FROM MARS NEWS SITE\n",
    "article = soup.find('div', class_=\"list_text\")\n",
    "news_para = article.find('div', class_=\"article_teaser_body\").text\n",
    "\n",
    "\n",
    "print(news_title)\n",
    "print(\"-\"*50)\n",
    "print(news_para)"
   ]
  },
  {
   "cell_type": "code",
   "execution_count": 30,
   "id": "005e35a2",
   "metadata": {},
   "outputs": [
    {
     "data": {
      "text/plain": "'https://spaceimages-mars.com/image/featured/mars3.jpg'"
     },
     "execution_count": 30,
     "metadata": {},
     "output_type": "execute_result"
    }
   ],
   "source": [
    "# SCRAPE SPACE IMAGE SITE\n",
    "browser.visit(url_spaceimage)\n",
    "html = browser.html\n",
    "soup = bs(html, \"html.parser\")\n",
    "# print(soup.prettify())\n",
    "\n",
    "# SCRAPE FOR THE URL OF THE FEATURED IMAGE\n",
    "space_img = soup.select(\"img\", class_=\"fancybox-image\")[1].get(\"src\")\n",
    "\n",
    "# CREATE IMAGE URL\n",
    "space_img_url = url_spaceimage + \"/\" + space_img\n",
    "space_img_url"
   ]
  },
  {
   "cell_type": "code",
   "execution_count": 31,
   "id": "c0214828",
   "metadata": {},
   "outputs": [
    {
     "data": {
      "text/plain": "                      0                              1\n0  Equatorial Diameter:                       6,792 km\n1       Polar Diameter:                       6,752 km\n2                 Mass:  6.39 × 10^23 kg (0.11 Earths)\n3                Moons:          2 ( Phobos & Deimos )\n4       Orbit Distance:       227,943,824 km (1.38 AU)\n5         Orbit Period:           687 days (1.9 years)\n6  Surface Temperature:                   -87 to -5 °C\n7         First Record:              2nd millennium BC\n8          Recorded By:           Egyptian astronomers",
      "text/html": "<div>\n<style scoped>\n    .dataframe tbody tr th:only-of-type {\n        vertical-align: middle;\n    }\n\n    .dataframe tbody tr th {\n        vertical-align: top;\n    }\n\n    .dataframe thead th {\n        text-align: right;\n    }\n</style>\n<table border=\"1\" class=\"dataframe\">\n  <thead>\n    <tr style=\"text-align: right;\">\n      <th></th>\n      <th>0</th>\n      <th>1</th>\n    </tr>\n  </thead>\n  <tbody>\n    <tr>\n      <th>0</th>\n      <td>Equatorial Diameter:</td>\n      <td>6,792 km</td>\n    </tr>\n    <tr>\n      <th>1</th>\n      <td>Polar Diameter:</td>\n      <td>6,752 km</td>\n    </tr>\n    <tr>\n      <th>2</th>\n      <td>Mass:</td>\n      <td>6.39 × 10^23 kg (0.11 Earths)</td>\n    </tr>\n    <tr>\n      <th>3</th>\n      <td>Moons:</td>\n      <td>2 ( Phobos &amp; Deimos )</td>\n    </tr>\n    <tr>\n      <th>4</th>\n      <td>Orbit Distance:</td>\n      <td>227,943,824 km (1.38 AU)</td>\n    </tr>\n    <tr>\n      <th>5</th>\n      <td>Orbit Period:</td>\n      <td>687 days (1.9 years)</td>\n    </tr>\n    <tr>\n      <th>6</th>\n      <td>Surface Temperature:</td>\n      <td>-87 to -5 °C</td>\n    </tr>\n    <tr>\n      <th>7</th>\n      <td>First Record:</td>\n      <td>2nd millennium BC</td>\n    </tr>\n    <tr>\n      <th>8</th>\n      <td>Recorded By:</td>\n      <td>Egyptian astronomers</td>\n    </tr>\n  </tbody>\n</table>\n</div>"
     },
     "execution_count": 31,
     "metadata": {},
     "output_type": "execute_result"
    }
   ],
   "source": [
    "# SCRAPE MARS FACTS SITE FOR MARS PLANET PROFILE TABLE\n",
    "browser.visit(url_marsfacts)\n",
    "html = browser.html\n",
    "soup = bs(html, \"html.parser\")\n",
    "# print(soup.prettify())\n",
    "\n",
    "# SCRAPE THE \"MARS PLANET PROFILE\" TABLE\n",
    "mars_facts = pd.read_html(\"https://galaxyfacts-mars.com\")[1]\n",
    "mars_facts"
   ]
  },
  {
   "cell_type": "code",
   "execution_count": null,
   "id": "c8f177ed",
   "metadata": {
    "pycharm": {
     "is_executing": true
    }
   },
   "outputs": [],
   "source": [
    "# SCRAPE MARS HEMISPHERES SITE\n",
    "browser.visit(url_marshemis)\n",
    "html = browser.html\n",
    "soup = bs(html, \"html.parser\")\n",
    "# print(soup.prettify())\n",
    "\n",
    "# EMPTY LIST TO HOLD IMAGES AND TITLES\n",
    "hemis_list = []\n",
    "\n",
    "# LOOP THROUGH SITE TO GET IMAGE URLs AND TITLES \n",
    "for hemis in range(4):\n",
    "    # EMPTY DICTIONARY FOR LOOP\n",
    "    hemis_dict = {}\n",
    "    \n",
    "    # CLICK THROUGH PAGES / FIND IMAGE URL AND TITLE\n",
    "    browser.find_by_css(\"a.product-item h3\")[hemis].click()\n",
    "    element = browser.find_link_by_text(\"Sample\").first\n",
    "    img_url = element[\"href\"]\n",
    "    title = browser.find_by_css(\"h2.title\").text\n",
    "    \n",
    "    # DEFINE TITLE AND IMAGE URL VALUES FOR DICTIONRARY\n",
    "    hemis_dict[\"title\"] = title\n",
    "    hemis_dict[\"img_url\"] = img_url\n",
    "    \n",
    "    # APPEND TO EMPPYT LIST\n",
    "    hemis_list.append(hemis_dict)\n",
    "    browser.back()\n",
    "\n",
    "hemis_list"
   ]
  },
  {
   "cell_type": "code",
   "execution_count": 32,
   "id": "76be0b10",
   "metadata": {
    "pycharm": {
     "name": "#%%\n"
    }
   },
   "outputs": [],
   "source": [
    "# QUIT BROWSER\n",
    "browser.quit()"
   ]
  },
  {
   "cell_type": "code",
   "execution_count": 26,
   "id": "429fb85a",
   "metadata": {
    "pycharm": {
     "name": "#%%\n"
    }
   },
   "outputs": [],
   "source": []
  }
 ],
 "metadata": {
  "kernelspec": {
   "display_name": "Python 3 (ipykernel)",
   "language": "python",
   "name": "python3"
  },
  "language_info": {
   "codemirror_mode": {
    "name": "ipython",
    "version": 3
   },
   "file_extension": ".py",
   "mimetype": "text/x-python",
   "name": "python",
   "nbconvert_exporter": "python",
   "pygments_lexer": "ipython3",
   "version": "3.9.7"
  }
 },
 "nbformat": 4,
 "nbformat_minor": 5
}